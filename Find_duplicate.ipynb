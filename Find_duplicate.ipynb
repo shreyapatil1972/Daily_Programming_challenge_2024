{
 "cells": [
  {
   "cell_type": "code",
   "execution_count": 5,
   "id": "3fb07f18-fc21-4091-8d64-3a8cb575e957",
   "metadata": {},
   "outputs": [
    {
     "name": "stdin",
     "output_type": "stream",
     "text": [
      "Enter the value of n:  5\n",
      "Enter 6 integers in the range [1, 5]:  1 2 2 3  4 5\n"
     ]
    },
    {
     "name": "stdout",
     "output_type": "stream",
     "text": [
      "The duplicate number is: 2\n"
     ]
    }
   ],
   "source": [
    "def find_duplicate(arr):\n",
    "    tortoise = arr[0]\n",
    "    hare = arr[0]\n",
    "    while True:\n",
    "        tortoise = arr[tortoise]\n",
    "        hare = arr[arr[hare]]\n",
    "        if tortoise == hare:\n",
    "            break\n",
    "    tortoise = arr[0]\n",
    "    while tortoise != hare:\n",
    "        tortoise = arr[tortoise]\n",
    "        hare = arr[hare]\n",
    "    return hare\n",
    "n = int(input(\"Enter the value of n: \"))\n",
    "arr = list(map(int, input(f\"Enter {n+1} integers in the range [1, {n}]: \").split()))\n",
    "duplicate = find_duplicate(arr)\n",
    "print(f\"The duplicate number is: {duplicate}\")"
   ]
  }
 ],
 "metadata": {
  "kernelspec": {
   "display_name": "Python 3 (ipykernel)",
   "language": "python",
   "name": "python3"
  },
  "language_info": {
   "codemirror_mode": {
    "name": "ipython",
    "version": 3
   },
   "file_extension": ".py",
   "mimetype": "text/x-python",
   "name": "python",
   "nbconvert_exporter": "python",
   "pygments_lexer": "ipython3",
   "version": "3.10.4"
  }
 },
 "nbformat": 4,
 "nbformat_minor": 5
}
