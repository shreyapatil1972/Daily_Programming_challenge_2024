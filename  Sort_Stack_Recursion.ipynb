{
 "cells": [
  {
   "cell_type": "code",
   "execution_count": 1,
   "id": "f632c45a-8c52-4c52-b97d-019776d64169",
   "metadata": {},
   "outputs": [
    {
     "name": "stdout",
     "output_type": "stream",
     "text": [
      "Original Stack: [3, 1, 4, 2, 5]\n",
      "Sorted Stack: [1, 2, 3, 4, 5]\n"
     ]
    }
   ],
   "source": [
    "def insert_in_sorted_order(stack, element):\n",
    "    if not stack or stack[-1] <= element:\n",
    "        stack.append(element)\n",
    "    else:\n",
    "        temp = stack.pop()\n",
    "        insert_in_sorted_order(stack, element)\n",
    "        stack.append(temp)\n",
    "def sort_stack(stack):\n",
    "    if not stack:\n",
    "        return\n",
    "    temp = stack.pop()\n",
    "    sort_stack(stack)\n",
    "    insert_in_sorted_order(stack, temp)\n",
    "stack = [3, 1, 4, 2, 5]\n",
    "print(\"Original Stack:\", stack)\n",
    "sort_stack(stack)\n",
    "print(\"Sorted Stack:\", stack)"
   ]
  },
  {
   "cell_type": "code",
   "execution_count": null,
   "id": "e9977c53-3551-4825-8ac5-6d02f6f1ec7c",
   "metadata": {},
   "outputs": [],
   "source": []
  }
 ],
 "metadata": {
  "kernelspec": {
   "display_name": "Python 3 (ipykernel)",
   "language": "python",
   "name": "python3"
  },
  "language_info": {
   "codemirror_mode": {
    "name": "ipython",
    "version": 3
   },
   "file_extension": ".py",
   "mimetype": "text/x-python",
   "name": "python",
   "nbconvert_exporter": "python",
   "pygments_lexer": "ipython3",
   "version": "3.10.4"
  }
 },
 "nbformat": 4,
 "nbformat_minor": 5
}
