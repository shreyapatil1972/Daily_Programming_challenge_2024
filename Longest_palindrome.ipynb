{
 "cells": [
  {
   "cell_type": "code",
   "execution_count": 4,
   "id": "54da2b13-73b9-4381-8d87-eda3707fc2d7",
   "metadata": {},
   "outputs": [
    {
     "name": "stdin",
     "output_type": "stream",
     "text": [
      "Enter a string:  aacb\n"
     ]
    },
    {
     "name": "stdout",
     "output_type": "stream",
     "text": [
      "Longest Palindromic Substring: aa\n"
     ]
    }
   ],
   "source": [
    "def longest_palindrome(s: str) -> str:\n",
    "    if len(s) == 0:\n",
    "        return \"\"\n",
    "    def expand_around_center(left: int, right: int) -> str:\n",
    "        while left >= 0 and right < len(s) and s[left] == s[right]:\n",
    "            left -= 1\n",
    "            right += 1\n",
    "        return s[left+1:right]\n",
    "    longest = \"\"\n",
    "    for i in range(len(s)):\n",
    "        palindrome_odd = expand_around_center(i, i)\n",
    "        palindrome_even = expand_around_center(i, i+1)\n",
    "        longest = max(longest, palindrome_odd, palindrome_even, key=len)\n",
    "    return longest\n",
    "s = input(\"Enter a string: \")\n",
    "print(\"Longest Palindromic Substring:\", longest_palindrome(s))\n"
   ]
  },
  {
   "cell_type": "code",
   "execution_count": null,
   "id": "9328675c-f125-4716-92d5-b59bec25df85",
   "metadata": {},
   "outputs": [],
   "source": []
  }
 ],
 "metadata": {
  "kernelspec": {
   "display_name": "Python 3 (ipykernel)",
   "language": "python",
   "name": "python3"
  },
  "language_info": {
   "codemirror_mode": {
    "name": "ipython",
    "version": 3
   },
   "file_extension": ".py",
   "mimetype": "text/x-python",
   "name": "python",
   "nbconvert_exporter": "python",
   "pygments_lexer": "ipython3",
   "version": "3.10.4"
  }
 },
 "nbformat": 4,
 "nbformat_minor": 5
}
