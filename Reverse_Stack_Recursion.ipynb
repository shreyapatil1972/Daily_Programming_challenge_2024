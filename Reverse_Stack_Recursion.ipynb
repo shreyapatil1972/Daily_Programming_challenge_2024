{
 "cells": [
  {
   "cell_type": "code",
   "execution_count": 2,
   "id": "d88872a7-26cc-4f46-8555-499828d04a5b",
   "metadata": {},
   "outputs": [
    {
     "name": "stdout",
     "output_type": "stream",
     "text": [
      "Original Stack: [3, 1, 4, 2]\n",
      "Reversed Stack: [2, 4, 1, 3]\n"
     ]
    }
   ],
   "source": [
    "def insert_at_bottom(stack, item):\n",
    "    if not stack: \n",
    "        stack.append(item)\n",
    "    else:\n",
    "        temp = stack.pop()\n",
    "        insert_at_bottom(stack, item\n",
    "        stack.append(temp)\n",
    "def reverse_stack(stack):\n",
    "    if stack: \n",
    "        temp = stack.pop()\n",
    "        reverse_stack(stack)\n",
    "        insert_at_bottom(stack, temp)\n",
    "stack = [3, 1, 4, 2]  \n",
    "print(\"Original Stack:\", stack)\n",
    "reverse_stack(stack)\n",
    "print(\"Reversed Stack:\", stack)"
   ]
  },
  {
   "cell_type": "code",
   "execution_count": null,
   "id": "923b24ac-9a8d-4662-9e75-fabfd73925eb",
   "metadata": {},
   "outputs": [],
   "source": []
  }
 ],
 "metadata": {
  "kernelspec": {
   "display_name": "Python 3 (ipykernel)",
   "language": "python",
   "name": "python3"
  },
  "language_info": {
   "codemirror_mode": {
    "name": "ipython",
    "version": 3
   },
   "file_extension": ".py",
   "mimetype": "text/x-python",
   "name": "python",
   "nbconvert_exporter": "python",
   "pygments_lexer": "ipython3",
   "version": "3.10.4"
  }
 },
 "nbformat": 4,
 "nbformat_minor": 5
}
