{
 "cells": [
  {
   "cell_type": "code",
   "execution_count": 2,
   "id": "a4e0e9da-ae29-4e30-8584-61939a8ce047",
   "metadata": {},
   "outputs": [
    {
     "name": "stdout",
     "output_type": "stream",
     "text": [
      "true\n"
     ]
    }
   ],
   "source": [
    "def is_cyclic_util(v, visited, parent, adj):\n",
    "    visited[v] = True\n",
    "    for neighbor in adj[v]:\n",
    "        if not visited[neighbor]:\n",
    "            if is_cyclic_util(neighbor, visited, v, adj):\n",
    "                return True\n",
    "        elif neighbor != parent:\n",
    "            return True\n",
    "    return False\n",
    "def is_cyclic(V, edges):\n",
    "    adj = [[] for _ in range(V)]\n",
    "    for u, v in edges:\n",
    "        adj[u].append(v)\n",
    "        adj[v].append(u)\n",
    "    visited = [False] * V\n",
    "    for i in range(V):\n",
    "        if not visited[i]:\n",
    "            if is_cyclic_util(i, visited, -1, adj):\n",
    "                return True \n",
    "    \n",
    "    return False\n",
    "V = 5 \n",
    "edges = [[0, 1], [1, 2], [2, 3], [3, 4], [4, 0]]  \n",
    "if is_cyclic(V, edges):\n",
    "    print(\"true\")  \n",
    "else:\n",
    "    print(\"false\") \n"
   ]
  },
  {
   "cell_type": "code",
   "execution_count": null,
   "id": "3f746f9c-7caa-485a-a3e9-15e267c021b0",
   "metadata": {},
   "outputs": [],
   "source": []
  }
 ],
 "metadata": {
  "kernelspec": {
   "display_name": "Python 3 (ipykernel)",
   "language": "python",
   "name": "python3"
  },
  "language_info": {
   "codemirror_mode": {
    "name": "ipython",
    "version": 3
   },
   "file_extension": ".py",
   "mimetype": "text/x-python",
   "name": "python",
   "nbconvert_exporter": "python",
   "pygments_lexer": "ipython3",
   "version": "3.10.4"
  }
 },
 "nbformat": 4,
 "nbformat_minor": 5
}
