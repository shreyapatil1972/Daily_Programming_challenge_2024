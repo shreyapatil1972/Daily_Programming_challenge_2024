{
 "cells": [
  {
   "cell_type": "code",
   "execution_count": 1,
   "id": "5612ed80-cf7d-4b32-a518-888468fde8d1",
   "metadata": {},
   "outputs": [
    {
     "name": "stdin",
     "output_type": "stream",
     "text": [
      "Enter the array elements separated by spaces:  2 3 4 3 6 7 2 2 \n",
      "Enter the value of k:  2\n"
     ]
    },
    {
     "name": "stdout",
     "output_type": "stream",
     "text": [
      "The first element that repeats exactly 2 times is: 3\n"
     ]
    }
   ],
   "source": [
    "def first_element_to_repeat_k_times(arr, k):\n",
    "    frequency = {}\n",
    "    for num in arr:\n",
    "        frequency[num] = frequency.get(num, 0) + 1\n",
    "    for num in arr:\n",
    "        if frequency[num] == k:\n",
    "            return num\n",
    "    return -1\n",
    "arr = list(map(int, input(\"Enter the array elements separated by spaces: \").split()))\n",
    "k = int(input(\"Enter the value of k: \"))\n",
    "result = first_element_to_repeat_k_times(arr, k)\n",
    "print(f\"The first element that repeats exactly {k} times is: {result if result != -1 else 'None'}\")"
   ]
  },
  {
   "cell_type": "code",
   "execution_count": null,
   "id": "d7f47149-bbc1-457d-aba1-1b9d41079885",
   "metadata": {},
   "outputs": [],
   "source": []
  }
 ],
 "metadata": {
  "kernelspec": {
   "display_name": "Python 3 (ipykernel)",
   "language": "python",
   "name": "python3"
  },
  "language_info": {
   "codemirror_mode": {
    "name": "ipython",
    "version": 3
   },
   "file_extension": ".py",
   "mimetype": "text/x-python",
   "name": "python",
   "nbconvert_exporter": "python",
   "pygments_lexer": "ipython3",
   "version": "3.10.4"
  }
 },
 "nbformat": 4,
 "nbformat_minor": 5
}
