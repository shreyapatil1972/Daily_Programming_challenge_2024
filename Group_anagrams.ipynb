{
 "cells": [
  {
   "cell_type": "code",
   "execution_count": 1,
   "id": "d0bb00f7-a5d0-4701-a53f-9c102a794647",
   "metadata": {},
   "outputs": [
    {
     "name": "stdin",
     "output_type": "stream",
     "text": [
      "Enter the strings (space-separated):  eat tea tan ate nat bat\n"
     ]
    },
    {
     "name": "stdout",
     "output_type": "stream",
     "text": [
      "The grouped anagrams are:\n",
      "['eat', 'tea', 'ate']\n",
      "['tan', 'nat']\n",
      "['bat']\n"
     ]
    }
   ],
   "source": [
    "def group_anagrams(strs):\n",
    "    anagrams = {}\n",
    "    for string in strs:\n",
    "        sorted_str = ''.join(sorted(string))\n",
    "        if sorted_str not in anagrams:\n",
    "            anagrams[sorted_str] = []\n",
    "        anagrams[sorted_str].append(string)\n",
    "    return list(anagrams.values())\n",
    "input_str = input(\"Enter the strings (space-separated): \")\n",
    "strs = input_str.split()\n",
    "result = group_anagrams(strs)\n",
    "print(\"The grouped anagrams are:\")\n",
    "for group in result:\n",
    "    print(group)"
   ]
  },
  {
   "cell_type": "code",
   "execution_count": null,
   "id": "5622519e-84c0-4593-984c-ba46e2972a04",
   "metadata": {},
   "outputs": [],
   "source": []
  }
 ],
 "metadata": {
  "kernelspec": {
   "display_name": "Python 3 (ipykernel)",
   "language": "python",
   "name": "python3"
  },
  "language_info": {
   "codemirror_mode": {
    "name": "ipython",
    "version": 3
   },
   "file_extension": ".py",
   "mimetype": "text/x-python",
   "name": "python",
   "nbconvert_exporter": "python",
   "pygments_lexer": "ipython3",
   "version": "3.10.4"
  }
 },
 "nbformat": 4,
 "nbformat_minor": 5
}
