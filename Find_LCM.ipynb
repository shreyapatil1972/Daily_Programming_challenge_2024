{
 "cells": [
  {
   "cell_type": "code",
   "execution_count": 2,
   "id": "ed493ad4-09d5-49fe-b0c6-82617767e881",
   "metadata": {},
   "outputs": [
    {
     "name": "stdout",
     "output_type": "stream",
     "text": [
      "LCM of 15 and 20 is 60\n"
     ]
    }
   ],
   "source": [
    "def find_gcd(n, m):\n",
    "    while m != 0:\n",
    "        n, m = m, n % m\n",
    "    return n\n",
    "def find_lcm(n, m):\n",
    "    gcd_value = find_gcd(n, m)\n",
    "    lcm_value = abs(n * m) // gcd_value\n",
    "    return lcm_value\n",
    "N = 15\n",
    "M = 20\n",
    "lcm = find_lcm(N, M)\n",
    "print(f\"LCM of {N} and {M} is {lcm}\")\n"
   ]
  },
  {
   "cell_type": "code",
   "execution_count": null,
   "id": "20ad7f5d-1d19-4ef3-81ef-8d8367faef14",
   "metadata": {},
   "outputs": [],
   "source": []
  }
 ],
 "metadata": {
  "kernelspec": {
   "display_name": "Python 3 (ipykernel)",
   "language": "python",
   "name": "python3"
  },
  "language_info": {
   "codemirror_mode": {
    "name": "ipython",
    "version": 3
   },
   "file_extension": ".py",
   "mimetype": "text/x-python",
   "name": "python",
   "nbconvert_exporter": "python",
   "pygments_lexer": "ipython3",
   "version": "3.10.4"
  }
 },
 "nbformat": 4,
 "nbformat_minor": 5
}
