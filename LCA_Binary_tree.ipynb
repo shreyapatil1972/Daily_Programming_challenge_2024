{
 "cells": [
  {
   "cell_type": "code",
   "execution_count": 2,
   "id": "fee4ea2c-4677-41d3-8157-52e82ececee3",
   "metadata": {},
   "outputs": [
    {
     "name": "stdout",
     "output_type": "stream",
     "text": [
      "LCA of 5 and 1 is 3\n"
     ]
    }
   ],
   "source": [
    "class TreeNode:\n",
    "    def __init__(self, value=0, left=None, right=None):\n",
    "        self.value = value\n",
    "        self.left = left\n",
    "        self.right = right\n",
    "def lowest_common_ancestor(root, p, q):\n",
    "    if root is None or root == p or root == q:\n",
    "        return root\n",
    "    left_lca = lowest_common_ancestor(root.left, p, q)\n",
    "    right_lca = lowest_common_ancestor(root.right, p, q)\n",
    "    if left_lca and right_lca:\n",
    "        return root\n",
    "    return left_lca if left_lca else right_lca\n",
    "root = TreeNode(3)\n",
    "root.left = TreeNode(5)\n",
    "root.right = TreeNode(1)\n",
    "root.left.left = TreeNode(6)\n",
    "root.left.right = TreeNode(2)\n",
    "root.right.left = TreeNode(0)\n",
    "root.right.right = TreeNode(8)\n",
    "root.left.right.left = TreeNode(7)\n",
    "root.left.right.right = TreeNode(4)\n",
    "p = root.left  \n",
    "q = root.right  \n",
    "lca = lowest_common_ancestor(root, p, q)\n",
    "print(f\"LCA of {p.value} and {q.value} is {lca.value}\")  "
   ]
  },
  {
   "cell_type": "code",
   "execution_count": null,
   "id": "f398f807-ef60-432f-b243-915361d3fd40",
   "metadata": {},
   "outputs": [],
   "source": []
  }
 ],
 "metadata": {
  "kernelspec": {
   "display_name": "Python 3 (ipykernel)",
   "language": "python",
   "name": "python3"
  },
  "language_info": {
   "codemirror_mode": {
    "name": "ipython",
    "version": 3
   },
   "file_extension": ".py",
   "mimetype": "text/x-python",
   "name": "python",
   "nbconvert_exporter": "python",
   "pygments_lexer": "ipython3",
   "version": "3.10.4"
  }
 },
 "nbformat": 4,
 "nbformat_minor": 5
}
