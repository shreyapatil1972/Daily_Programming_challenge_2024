{
 "cells": [
  {
   "cell_type": "code",
   "execution_count": 3,
   "id": "0d131aac-2580-4f99-b7f4-942ade9e96cb",
   "metadata": {},
   "outputs": [
    {
     "name": "stdin",
     "output_type": "stream",
     "text": [
      "Enter the array elements separated by spaces:  1 2 -3 3 -1 2\n"
     ]
    },
    {
     "name": "stdout",
     "output_type": "stream",
     "text": [
      "Subarrays with zero sum are: [(0, 2), (2, 3)]\n"
     ]
    }
   ],
   "source": [
    "def find_zero_sum_subarrays(arr):\n",
    "    sum_dict = {}\n",
    "    result = []\n",
    "    cum_sum = 0\n",
    "    for i in range(len(arr)):\n",
    "        cum_sum += arr[i]\n",
    "        if cum_sum == 0:\n",
    "            result.append((0, i))\n",
    "        if cum_sum in sum_dict:\n",
    "            for start_index in sum_dict[cum_sum]:\n",
    "                result.append((start_index + 1, i))\n",
    "        if cum_sum in sum_dict:\n",
    "            sum_dict[cum_sum].append(i)\n",
    "        else:\n",
    "            sum_dict[cum_sum] = [i]\n",
    "    return result\n",
    "input_string = input(\"Enter the array elements separated by spaces: \")\n",
    "arr = list(map(int, input_string.split()))\n",
    "zero_sum_subarrays = find_zero_sum_subarrays(arr)\n",
    "print(\"Subarrays with zero sum are:\", zero_sum_subarrays)"
   ]
  },
  {
   "cell_type": "code",
   "execution_count": null,
   "id": "cb1a7b70-1c03-4fd0-be7f-0020cc5a97b6",
   "metadata": {},
   "outputs": [],
   "source": []
  }
 ],
 "metadata": {
  "kernelspec": {
   "display_name": "Python 3 (ipykernel)",
   "language": "python",
   "name": "python3"
  },
  "language_info": {
   "codemirror_mode": {
    "name": "ipython",
    "version": 3
   },
   "file_extension": ".py",
   "mimetype": "text/x-python",
   "name": "python",
   "nbconvert_exporter": "python",
   "pygments_lexer": "ipython3",
   "version": "3.10.4"
  }
 },
 "nbformat": 4,
 "nbformat_minor": 5
}
