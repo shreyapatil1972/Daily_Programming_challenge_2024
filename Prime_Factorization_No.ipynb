{
 "cells": [
  {
   "cell_type": "code",
   "execution_count": 1,
   "id": "04fa57e9-b00f-43f9-906c-dffaa340a10d",
   "metadata": {},
   "outputs": [
    {
     "name": "stdin",
     "output_type": "stream",
     "text": [
      "Enter a positive integer:  84\n"
     ]
    },
    {
     "name": "stdout",
     "output_type": "stream",
     "text": [
      "Prime factors of 84 are: [2, 2, 3, 7]\n"
     ]
    }
   ],
   "source": [
    "def prime_factors(N):\n",
    "    factors = []\n",
    "    while N % 2 == 0:\n",
    "        factors.append(2)\n",
    "        N //= 2\n",
    "    for i in range(3, int(N**0.5) + 1, 2):\n",
    "        while N % i == 0:\n",
    "            factors.append(i)\n",
    "            N //= i\n",
    "    if N > 2:\n",
    "        factors.append(N)\n",
    "    return factors\n",
    "N = int(input(\"Enter a positive integer: \"))\n",
    "result = prime_factors(N)\n",
    "print(f\"Prime factors of {N} are: {result}\")"
   ]
  },
  {
   "cell_type": "code",
   "execution_count": null,
   "id": "c877eacf-4b69-466b-bf38-b64d323811bb",
   "metadata": {},
   "outputs": [],
   "source": []
  }
 ],
 "metadata": {
  "kernelspec": {
   "display_name": "Python 3 (ipykernel)",
   "language": "python",
   "name": "python3"
  },
  "language_info": {
   "codemirror_mode": {
    "name": "ipython",
    "version": 3
   },
   "file_extension": ".py",
   "mimetype": "text/x-python",
   "name": "python",
   "nbconvert_exporter": "python",
   "pygments_lexer": "ipython3",
   "version": "3.10.4"
  }
 },
 "nbformat": 4,
 "nbformat_minor": 5
}
