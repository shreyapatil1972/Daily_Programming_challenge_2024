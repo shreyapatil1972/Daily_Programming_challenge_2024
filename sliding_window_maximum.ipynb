{
 "cells": [
  {
   "cell_type": "code",
   "execution_count": 2,
   "id": "c97f3425-b9d5-407e-8697-6c3887afd585",
   "metadata": {},
   "outputs": [
    {
     "name": "stdout",
     "output_type": "stream",
     "text": [
      "[3, 3, 5, 5, 6, 7]\n"
     ]
    }
   ],
   "source": [
    "def sliding_window_maximum(arr, k):\n",
    "    if not arr or k == 0:\n",
    "        return []\n",
    "    result = []\n",
    "    max_indices = []\n",
    "    for i in range(len(arr)):\n",
    "        if max_indices and max_indices[0] < i - k + 1:\n",
    "            max_indices.pop(0)\n",
    "        while max_indices and arr[max_indices[-1]] < arr[i]:\n",
    "            max_indices.pop()\n",
    "        max_indices.append(i) \n",
    "        if i >= k - 1:\n",
    "            result.append(arr[max_indices[0]])\n",
    "\n",
    "    return result\n",
    "arr = [1, 3, -1, -3, 5, 3, 6, 7]\n",
    "k = 3\n",
    "print(sliding_window_maximum(arr, k))  "
   ]
  },
  {
   "cell_type": "code",
   "execution_count": null,
   "id": "29e27e31-34af-4111-8459-2c634ccdeca7",
   "metadata": {},
   "outputs": [],
   "source": []
  }
 ],
 "metadata": {
  "kernelspec": {
   "display_name": "Python 3 (ipykernel)",
   "language": "python",
   "name": "python3"
  },
  "language_info": {
   "codemirror_mode": {
    "name": "ipython",
    "version": 3
   },
   "file_extension": ".py",
   "mimetype": "text/x-python",
   "name": "python",
   "nbconvert_exporter": "python",
   "pygments_lexer": "ipython3",
   "version": "3.10.4"
  }
 },
 "nbformat": 4,
 "nbformat_minor": 5
}
