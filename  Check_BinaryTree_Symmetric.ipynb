{
 "cells": [
  {
   "cell_type": "code",
   "execution_count": 1,
   "id": "b443b8ad-cd4a-4c07-b206-3cce1a0de4d4",
   "metadata": {},
   "outputs": [
    {
     "name": "stdout",
     "output_type": "stream",
     "text": [
      "The binary tree is symmetric.\n"
     ]
    }
   ],
   "source": [
    "class TreeNode:\n",
    "    def __init__(self, val=0, left=None, right=None):\n",
    "        self.val = val\n",
    "        self.left = left\n",
    "        self.right = right\n",
    "def is_symmetric(root):\n",
    "    def is_mirror(left, right):\n",
    "        if not left and not right:\n",
    "            return True\n",
    "        if not left or not right:\n",
    "            return False\n",
    "        return (left.val == right.val) and is_mirror(left.left, right.right) and is_mirror(left.right, right.left)\n",
    "    if not root:\n",
    "        return True\n",
    "    return is_mirror(root.left, root.right)\n",
    "def build_tree(nodes):\n",
    "    if not nodes:\n",
    "        return None\n",
    "    root = TreeNode(nodes[0])\n",
    "    queue = [root]\n",
    "    i = 1\n",
    "    while i < len(nodes):\n",
    "        current = queue.pop(0)\n",
    "        if nodes[i] is not None:\n",
    "            current.left = TreeNode(nodes[i])\n",
    "            queue.append(current.left)\n",
    "        i += 1\n",
    "        if i < len(nodes) and nodes[i] is not None:\n",
    "            current.right = TreeNode(nodes[i])\n",
    "            queue.append(current.right)\n",
    "        i += 1\n",
    "    return root\n",
    "nodes = [1, 2, 2, 3, 4, 4, 3]\n",
    "root = build_tree(nodes)\n",
    "result = is_symmetric(root)\n",
    "print(f\"The binary tree is {'symmetric' if result else 'not symmetric'}.\")\n"
   ]
  },
  {
   "cell_type": "code",
   "execution_count": null,
   "id": "87ba1144-019d-461c-9eda-d899d837766d",
   "metadata": {},
   "outputs": [],
   "source": []
  }
 ],
 "metadata": {
  "kernelspec": {
   "display_name": "Python 3 (ipykernel)",
   "language": "python",
   "name": "python3"
  },
  "language_info": {
   "codemirror_mode": {
    "name": "ipython",
    "version": 3
   },
   "file_extension": ".py",
   "mimetype": "text/x-python",
   "name": "python",
   "nbconvert_exporter": "python",
   "pygments_lexer": "ipython3",
   "version": "3.10.4"
  }
 },
 "nbformat": 4,
 "nbformat_minor": 5
}
