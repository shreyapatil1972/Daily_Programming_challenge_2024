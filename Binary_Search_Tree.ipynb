{
 "cells": [
  {
   "cell_type": "code",
   "execution_count": 1,
   "id": "5545ba60-fd36-4a2a-b4b7-9f62210c2a10",
   "metadata": {},
   "outputs": [
    {
     "name": "stdout",
     "output_type": "stream",
     "text": [
      "True\n"
     ]
    }
   ],
   "source": [
    "class TreeNode:\n",
    "    def __init__(self, val=0, left=None, right=None):\n",
    "        self.val = val\n",
    "        self.left = left\n",
    "        self.right = right\n",
    "def is_valid_bst(root, low=float('-inf'), high=float('inf')):\n",
    "    if not root:\n",
    "        return True\n",
    "    if root.val <= low or root.val >= high:\n",
    "        return False\n",
    "    return (is_valid_bst(root.left, low, root.val) and\n",
    "            is_valid_bst(root.right, root.val, high))\n",
    "root = TreeNode(2)\n",
    "root.left = TreeNode(1)\n",
    "root.right = TreeNode(3)\n",
    "print(is_valid_bst(root)) \n"
   ]
  },
  {
   "cell_type": "code",
   "execution_count": null,
   "id": "ca091a7f-9474-4dee-97d7-7c992161da9a",
   "metadata": {},
   "outputs": [],
   "source": []
  }
 ],
 "metadata": {
  "kernelspec": {
   "display_name": "Python 3 (ipykernel)",
   "language": "python",
   "name": "python3"
  },
  "language_info": {
   "codemirror_mode": {
    "name": "ipython",
    "version": 3
   },
   "file_extension": ".py",
   "mimetype": "text/x-python",
   "name": "python",
   "nbconvert_exporter": "python",
   "pygments_lexer": "ipython3",
   "version": "3.10.4"
  }
 },
 "nbformat": 4,
 "nbformat_minor": 5
}
