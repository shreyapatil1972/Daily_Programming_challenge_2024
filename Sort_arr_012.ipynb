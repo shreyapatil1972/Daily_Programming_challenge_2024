{
 "cells": [
  {
   "cell_type": "code",
   "execution_count": 8,
   "id": "ce6edd49-132c-4b9f-b531-9057715b1f5c",
   "metadata": {},
   "outputs": [
    {
     "name": "stdin",
     "output_type": "stream",
     "text": [
      "Enter the elements of the array  0s, 1s, and 2s separated by spaces:  2 0 1 1 2 0 0 2 2 1 1 0\n"
     ]
    },
    {
     "name": "stdout",
     "output_type": "stream",
     "text": [
      "Sorted array: [0, 0, 0, 0, 1, 1, 1, 1, 2, 2, 2, 2]\n"
     ]
    }
   ],
   "source": [
    "def sort(array):\n",
    "    low = 0\n",
    "    mid = 0\n",
    "    high = len(array) - 1\n",
    "    while mid <= high:\n",
    "        if array[mid] == 0:\n",
    "            array[low], array[mid] = array[mid], array[low]  \n",
    "            low += 1\n",
    "            mid += 1\n",
    "        elif array[mid] == 1:\n",
    "            mid += 1  \n",
    "        else:\n",
    "            array[high], array[mid] = array[mid], array[high]  \n",
    "            high -= 1\n",
    "\n",
    "user_input = input(\"Enter the elements of the array  0s, 1s, and 2s separated by spaces: \")\n",
    "array = list(map(int, user_input.split()))\n",
    "sort012(array)\n",
    "print(\"Sorted array:\", array)"
   ]
  },
  {
   "cell_type": "code",
   "execution_count": null,
   "id": "a45dc989-74d5-4f03-bc3a-710746e2beb8",
   "metadata": {},
   "outputs": [],
   "source": []
  }
 ],
 "metadata": {
  "kernelspec": {
   "display_name": "Python 3 (ipykernel)",
   "language": "python",
   "name": "python3"
  },
  "language_info": {
   "codemirror_mode": {
    "name": "ipython",
    "version": 3
   },
   "file_extension": ".py",
   "mimetype": "text/x-python",
   "name": "python",
   "nbconvert_exporter": "python",
   "pygments_lexer": "ipython3",
   "version": "3.10.4"
  }
 },
 "nbformat": 4,
 "nbformat_minor": 5
}
