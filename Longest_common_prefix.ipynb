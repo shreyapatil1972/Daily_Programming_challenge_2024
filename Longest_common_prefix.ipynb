{
 "cells": [
  {
   "cell_type": "code",
   "execution_count": 1,
   "id": "0c609f3a-576c-45f1-bd56-66e9a15a110f",
   "metadata": {},
   "outputs": [
    {
     "name": "stdin",
     "output_type": "stream",
     "text": [
      "Enter the number of strings:  3\n",
      "Enter string 1:  flower\n",
      "Enter string 2:  flight\n",
      "Enter string 3:  flow\n"
     ]
    },
    {
     "name": "stdout",
     "output_type": "stream",
     "text": [
      "The longest common prefix is: 'fl'\n"
     ]
    }
   ],
   "source": [
    "def longest_common_prefix(strs):\n",
    "    if not strs:\n",
    "        return \"\"\n",
    "    prefix = strs[0]\n",
    "    for string in strs[1:]:\n",
    "        while not string.startswith(prefix):\n",
    "            prefix = prefix[:-1]\n",
    "            if not prefix:\n",
    "                return \"\"\n",
    "    return prefix\n",
    "n = int(input(\"Enter the number of strings: \"))\n",
    "strs = []\n",
    "for i in range(n):\n",
    "    s = input(f\"Enter string {i + 1}: \")\n",
    "    strs.append(s)\n",
    "result = longest_common_prefix(strs)\n",
    "print(f\"The longest common prefix is: '{result}'\")"
   ]
  }
 ],
 "metadata": {
  "kernelspec": {
   "display_name": "Python 3 (ipykernel)",
   "language": "python",
   "name": "python3"
  },
  "language_info": {
   "codemirror_mode": {
    "name": "ipython",
    "version": 3
   },
   "file_extension": ".py",
   "mimetype": "text/x-python",
   "name": "python",
   "nbconvert_exporter": "python",
   "pygments_lexer": "ipython3",
   "version": "3.10.4"
  }
 },
 "nbformat": 4,
 "nbformat_minor": 5
}
