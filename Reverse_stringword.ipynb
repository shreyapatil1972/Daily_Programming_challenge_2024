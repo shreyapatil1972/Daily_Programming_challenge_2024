{
 "cells": [
  {
   "cell_type": "code",
   "execution_count": 1,
   "id": "527d78c6-566b-400a-8fc2-581a09f18fcf",
   "metadata": {},
   "outputs": [
    {
     "name": "stdin",
     "output_type": "stream",
     "text": [
      "Enter a string:  today is sunday\n"
     ]
    },
    {
     "name": "stdout",
     "output_type": "stream",
     "text": [
      "sunday is today\n"
     ]
    }
   ],
   "source": [
    "def reverse_words():\n",
    "    s = input(\"Enter a string: \")\n",
    "    words = s.split()\n",
    "    words.reverse()\n",
    "    reversed_s = ' '.join(words)\n",
    "    return reversed_s\n",
    "print(reverse_words())\n"
   ]
  },
  {
   "cell_type": "code",
   "execution_count": null,
   "id": "a255321a-211d-4398-9fbd-2e41dfea144f",
   "metadata": {},
   "outputs": [],
   "source": []
  }
 ],
 "metadata": {
  "kernelspec": {
   "display_name": "Python 3 (ipykernel)",
   "language": "python",
   "name": "python3"
  },
  "language_info": {
   "codemirror_mode": {
    "name": "ipython",
    "version": 3
   },
   "file_extension": ".py",
   "mimetype": "text/x-python",
   "name": "python",
   "nbconvert_exporter": "python",
   "pygments_lexer": "ipython3",
   "version": "3.10.4"
  }
 },
 "nbformat": 4,
 "nbformat_minor": 5
}
