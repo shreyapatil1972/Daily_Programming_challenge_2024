{
 "cells": [
  {
   "cell_type": "code",
   "execution_count": 3,
   "id": "f31c5b84-75a4-429c-aab1-9b7252674e6d",
   "metadata": {},
   "outputs": [
    {
     "name": "stdin",
     "output_type": "stream",
     "text": [
      "Enter the number of elements in the first array:  5\n",
      "Enter 5 sorted elements for the first array:  1 5 8 9 11\n",
      "Enter the number of elements in the second sorted array:  7\n",
      "Enter 7 sorted elements for the second array:  2 3 6 7 12 15 18 \n"
     ]
    },
    {
     "name": "stdout",
     "output_type": "stream",
     "text": [
      "Merged Array: [1, 2, 3, 5, 6, 7, 8, 9, 11, 12, 15, 18]\n"
     ]
    }
   ],
   "source": [
    "def merge(arr1, arr2, m, n):\n",
    "    i = m - 1\n",
    "    j = n - 1\n",
    "    k = m + n - 1\n",
    "    while i >= 0 and j >= 0:\n",
    "        if arr1[i] > arr2[j]:\n",
    "            arr1[k] = arr1[i]\n",
    "            i -= 1\n",
    "        else:\n",
    "            arr1[k] = arr2[j]\n",
    "            j -= 1\n",
    "        k -= 1\n",
    "\n",
    "    while j >= 0:\n",
    "        arr1[k] = arr2[j]\n",
    "        j -= 1\n",
    "        k -= 1\n",
    "m = int(input(\"Enter the number of elements in the first array: \"))\n",
    "arr1 = list(map(int, input(f\"Enter {m} sorted elements for the first array: \").split()))\n",
    "n = int(input(\"Enter the number of elements in the second sorted array: \"))\n",
    "arr2 = list(map(int, input(f\"Enter {n} sorted elements for the second array: \").split()))\n",
    "arr1.extend([0] * n)\n",
    "merge(arr1, arr2, m, n)\n",
    "print(\"Merged Array:\", arr1)"
   ]
  },
  {
   "cell_type": "code",
   "execution_count": null,
   "id": "5a2a488d-1f62-47f8-bf67-f47b08e5b6ad",
   "metadata": {},
   "outputs": [],
   "source": []
  }
 ],
 "metadata": {
  "kernelspec": {
   "display_name": "Python 3 (ipykernel)",
   "language": "python",
   "name": "python3"
  },
  "language_info": {
   "codemirror_mode": {
    "name": "ipython",
    "version": 3
   },
   "file_extension": ".py",
   "mimetype": "text/x-python",
   "name": "python",
   "nbconvert_exporter": "python",
   "pygments_lexer": "ipython3",
   "version": "3.10.4"
  }
 },
 "nbformat": 4,
 "nbformat_minor": 5
}
