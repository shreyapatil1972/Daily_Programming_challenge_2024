{
 "cells": [
  {
   "cell_type": "code",
   "execution_count": 5,
   "id": "76981c7e-01ad-40b3-b068-8692f7b8cf2f",
   "metadata": {},
   "outputs": [
    {
     "name": "stdin",
     "output_type": "stream",
     "text": [
      "Enter the elements of the array separated by spaces:  1 22 4 21 18 \n"
     ]
    },
    {
     "name": "stdout",
     "output_type": "stream",
     "text": [
      "Leaders: [22, 21, 18]\n"
     ]
    }
   ],
   "source": [
    "def find_leaders(arr):\n",
    "    n = len(arr)\n",
    "    leaders = []\n",
    "    max_from_right = arr[-1]\n",
    "    leaders.append(max_from_right)\n",
    "    for i in range(n-2, -1, -1):\n",
    "        if arr[i] > max_from_right:\n",
    "            leaders.append(arr[i])\n",
    "            max_from_right = arr[i]\n",
    "    return leaders[::-1]\n",
    "arr = list(map(int, input(\"Enter the elements of the array separated by spaces: \").split()))\n",
    "leaders = find_leaders(arr)\n",
    "print(\"Leaders:\", leaders)"
   ]
  },
  {
   "cell_type": "code",
   "execution_count": null,
   "id": "f6910be7-76f1-4a7b-ba18-4f0fe8f0c748",
   "metadata": {},
   "outputs": [],
   "source": []
  }
 ],
 "metadata": {
  "kernelspec": {
   "display_name": "Python 3 (ipykernel)",
   "language": "python",
   "name": "python3"
  },
  "language_info": {
   "codemirror_mode": {
    "name": "ipython",
    "version": 3
   },
   "file_extension": ".py",
   "mimetype": "text/x-python",
   "name": "python",
   "nbconvert_exporter": "python",
   "pygments_lexer": "ipython3",
   "version": "3.10.4"
  }
 },
 "nbformat": 4,
 "nbformat_minor": 5
}
