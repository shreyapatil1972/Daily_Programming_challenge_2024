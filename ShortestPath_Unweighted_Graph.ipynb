{
 "cells": [
  {
   "cell_type": "code",
   "execution_count": 1,
   "id": "84bf07ab-eca6-463d-a39a-db6db930ac69",
   "metadata": {},
   "outputs": [
    {
     "name": "stdout",
     "output_type": "stream",
     "text": [
      "The shortest path from node 0 to node 4 is 3 edges.\n"
     ]
    }
   ],
   "source": [
    "def shortest_path(V, edges, start, end):\n",
    "    graph = {}\n",
    "    for i in range(V):\n",
    "        graph[i] = []\n",
    "    for u, v in edges:\n",
    "        graph[u].append(v)\n",
    "        graph[v].append(u)\n",
    "    queue = [(start, 0)] \n",
    "    visited = [False] * V\n",
    "    visited[start] = True\n",
    "    while len(queue) > 0:\n",
    "        node, distance = queue.pop(0)\n",
    "        if node == end:\n",
    "            return distance\n",
    "        for neighbor in graph[node]:\n",
    "            if not visited[neighbor]:\n",
    "                visited[neighbor] = True\n",
    "                queue.append((neighbor, distance + 1))\n",
    "    return -1\n",
    "V = 5\n",
    "edges = [[0, 1], [0, 2], [1, 3], [2, 3], [3, 4]]\n",
    "start = 0\n",
    "end = 4\n",
    "result = shortest_path(V, edges, start, end)\n",
    "print(f\"The shortest path from node {start} to node {end} is {result} edges.\")"
   ]
  },
  {
   "cell_type": "code",
   "execution_count": null,
   "id": "9d12ff77-6346-4deb-aa55-ce3a2010c323",
   "metadata": {},
   "outputs": [],
   "source": []
  }
 ],
 "metadata": {
  "kernelspec": {
   "display_name": "Python 3 (ipykernel)",
   "language": "python",
   "name": "python3"
  },
  "language_info": {
   "codemirror_mode": {
    "name": "ipython",
    "version": 3
   },
   "file_extension": ".py",
   "mimetype": "text/x-python",
   "name": "python",
   "nbconvert_exporter": "python",
   "pygments_lexer": "ipython3",
   "version": "3.10.4"
  }
 },
 "nbformat": 4,
 "nbformat_minor": 5
}
