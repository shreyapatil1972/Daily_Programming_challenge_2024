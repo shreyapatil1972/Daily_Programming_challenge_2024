{
 "cells": [
  {
   "cell_type": "code",
   "execution_count": 1,
   "id": "63bbfbbf-48dc-48d0-8d42-9a211939ae3f",
   "metadata": {},
   "outputs": [
    {
     "name": "stdout",
     "output_type": "stream",
     "text": [
      "Number of substrings with exactly 2 distinct characters: 7\n"
     ]
    }
   ],
   "source": [
    "def count_substrings_with_at_most_k_distinct(s, k):\n",
    "    n = len(s)\n",
    "    left = 0\n",
    "    count = 0\n",
    "    char_count = {}\n",
    "    for right in range(n):\n",
    "        if s[right] not in char_count:\n",
    "            char_count[s[right]] = 0\n",
    "        char_count[s[right]] += 1\n",
    "        while len(char_count) > k:\n",
    "            char_count[s[left]] -= 1\n",
    "            if char_count[s[left]] == 0:\n",
    "                del char_count[s[left]]\n",
    "            left += 1\n",
    "        count += right - left + 1\n",
    "    return count\n",
    "def count_substrings_with_exactly_k_distinct(s, k):\n",
    "    return count_substrings_with_at_most_k_distinct(s, k) - count_substrings_with_at_most_k_distinct(s, k - 1)\n",
    "s = \"pqpqs\"\n",
    "k = 2\n",
    "result = count_substrings_with_exactly_k_distinct(s, k)\n",
    "print(\"Number of substrings with exactly\", k, \"distinct characters:\", result)\n"
   ]
  },
  {
   "cell_type": "code",
   "execution_count": null,
   "id": "85d576dd-0705-42f4-a5f1-f3faff313c3e",
   "metadata": {},
   "outputs": [],
   "source": []
  }
 ],
 "metadata": {
  "kernelspec": {
   "display_name": "Python 3 (ipykernel)",
   "language": "python",
   "name": "python3"
  },
  "language_info": {
   "codemirror_mode": {
    "name": "ipython",
    "version": 3
   },
   "file_extension": ".py",
   "mimetype": "text/x-python",
   "name": "python",
   "nbconvert_exporter": "python",
   "pygments_lexer": "ipython3",
   "version": "3.10.4"
  }
 },
 "nbformat": 4,
 "nbformat_minor": 5
}
