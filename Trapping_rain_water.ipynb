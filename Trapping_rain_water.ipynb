{
 "cells": [
  {
   "cell_type": "code",
   "execution_count": 3,
   "id": "ceca4247-c787-45fc-b326-c1d1451eb51d",
   "metadata": {},
   "outputs": [
    {
     "name": "stdin",
     "output_type": "stream",
     "text": [
      "Enter the heights of the bars separated by spaces:  0 1 0 2 1 0 1 3 2 1 2 1\n"
     ]
    },
    {
     "name": "stdout",
     "output_type": "stream",
     "text": [
      "Total water trapped: 6\n"
     ]
    }
   ],
   "source": [
    "def trap(height):\n",
    "    if not height:\n",
    "        return 0\n",
    "    left, right = 0, len(height) - 1\n",
    "    left_max, right_max = height[left], height[right]\n",
    "    water_trapped = 0\n",
    "    while left < right:\n",
    "        if left_max < right_max:\n",
    "            left += 1\n",
    "            left_max = max(left_max, height[left])\n",
    "            water_trapped += left_max - height[left]\n",
    "        else:\n",
    "            right -= 1\n",
    "            right_max = max(right_max, height[right])\n",
    "            water_trapped += right_max - height[right]\n",
    "    return water_trapped\n",
    "height_input = input(\"Enter the heights of the bars separated by spaces: \")\n",
    "water_trapped = trap(height)\n",
    "print(f\"Total water trapped: {water_trapped}\")"
   ]
  },
  {
   "cell_type": "code",
   "execution_count": null,
   "id": "b025a87d-edcb-4a85-9d93-09b24046e1df",
   "metadata": {},
   "outputs": [],
   "source": []
  }
 ],
 "metadata": {
  "kernelspec": {
   "display_name": "Python 3 (ipykernel)",
   "language": "python",
   "name": "python3"
  },
  "language_info": {
   "codemirror_mode": {
    "name": "ipython",
    "version": 3
   },
   "file_extension": ".py",
   "mimetype": "text/x-python",
   "name": "python",
   "nbconvert_exporter": "python",
   "pygments_lexer": "ipython3",
   "version": "3.10.4"
  }
 },
 "nbformat": 4,
 "nbformat_minor": 5
}
