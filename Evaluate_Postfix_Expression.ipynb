{
 "cells": [
  {
   "cell_type": "code",
   "execution_count": 4,
   "id": "8530e0e6-35cb-4fa3-ba5c-4e47c137034b",
   "metadata": {},
   "outputs": [
    {
     "name": "stdout",
     "output_type": "stream",
     "text": [
      "3\n"
     ]
    }
   ],
   "source": [
    "def evaluate_postfix(expression):\n",
    "    stack = []\n",
    "    for token in expression:\n",
    "        if token.isdigit() or (token.startswith('-') and len(token) > 1): \n",
    "            stack.append(int(token))\n",
    "        else:\n",
    "            if token == '+':\n",
    "                b = stack.pop()\n",
    "                a = stack.pop()\n",
    "                stack.append(a + b)\n",
    "            elif token == '-':\n",
    "                b = stack.pop()\n",
    "                a = stack.pop()\n",
    "                stack.append(a - b)\n",
    "            elif token == '*':\n",
    "                b = stack.pop()\n",
    "                a = stack.pop()\n",
    "                stack.append(a * b)\n",
    "            elif token == '/':\n",
    "                b = stack.pop()\n",
    "                a = stack.pop()\n",
    "                stack.append(int(a / b)) \n",
    "            elif token == '^':\n",
    "                b = stack.pop()\n",
    "                a = stack.pop()\n",
    "                stack.append(a ** b)\n",
    "    return stack[0]\n",
    "expression = [\"3\", \"4\", \"2\", \"*\", \"1\", \"5\", \"-\", \"2\", \"3\", \"^\", \"^\", \"/\", \"+\"]\n",
    "print(evaluate_postfix(expression))  \n",
    "\n"
   ]
  },
  {
   "cell_type": "code",
   "execution_count": null,
   "id": "8540ae8e-ab1f-4625-986e-bf14abc806c4",
   "metadata": {},
   "outputs": [],
   "source": []
  }
 ],
 "metadata": {
  "kernelspec": {
   "display_name": "Python 3 (ipykernel)",
   "language": "python",
   "name": "python3"
  },
  "language_info": {
   "codemirror_mode": {
    "name": "ipython",
    "version": 3
   },
   "file_extension": ".py",
   "mimetype": "text/x-python",
   "name": "python",
   "nbconvert_exporter": "python",
   "pygments_lexer": "ipython3",
   "version": "3.10.4"
  }
 },
 "nbformat": 4,
 "nbformat_minor": 5
}
