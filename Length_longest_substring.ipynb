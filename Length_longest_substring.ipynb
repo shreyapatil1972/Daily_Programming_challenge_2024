{
 "cells": [
  {
   "cell_type": "code",
   "execution_count": 2,
   "id": "d408b856-504c-4075-8a56-6d2cb450a2f3",
   "metadata": {},
   "outputs": [
    {
     "name": "stdin",
     "output_type": "stream",
     "text": [
      "Enter a string:  abcabcbb\n"
     ]
    },
    {
     "name": "stdout",
     "output_type": "stream",
     "text": [
      "The length of the longest substring without repeating characters is: 3\n"
     ]
    }
   ],
   "source": [
    "def length_of_longest_substring(s: str) -> int:\n",
    "    char_set = set()\n",
    "    start = 0\n",
    "    max_len = 0\n",
    "\n",
    "    for end in range(len(s)):\n",
    "        while s[end] in char_set:\n",
    "            char_set.remove(s[start])\n",
    "            start += 1\n",
    "        char_set.add(s[end])\n",
    "        max_len = max(max_len, end - start + 1)\n",
    "    \n",
    "    return max_len\n",
    "\n",
    "# Take input from the user\n",
    "S = input(\"Enter a string: \")\n",
    "result = length_of_longest_substring(S)\n",
    "print(f\"The length of the longest substring without repeating characters is: {result}\")"
   ]
  },
  {
   "cell_type": "code",
   "execution_count": null,
   "id": "c98bc47b-2d0e-4243-b4f0-b6e0613ec3d1",
   "metadata": {},
   "outputs": [],
   "source": []
  }
 ],
 "metadata": {
  "kernelspec": {
   "display_name": "Python 3 (ipykernel)",
   "language": "python",
   "name": "python3"
  },
  "language_info": {
   "codemirror_mode": {
    "name": "ipython",
    "version": 3
   },
   "file_extension": ".py",
   "mimetype": "text/x-python",
   "name": "python",
   "nbconvert_exporter": "python",
   "pygments_lexer": "ipython3",
   "version": "3.10.4"
  }
 },
 "nbformat": 4,
 "nbformat_minor": 5
}
