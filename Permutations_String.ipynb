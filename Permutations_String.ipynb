{
 "cells": [
  {
   "cell_type": "code",
   "execution_count": 1,
   "id": "0738fa74-16a6-4665-8a18-07ad4f1325a2",
   "metadata": {},
   "outputs": [
    {
     "name": "stdout",
     "output_type": "stream",
     "text": [
      "['aabc', 'aacb', 'abac', 'abca', 'acab', 'acba', 'baac', 'baca', 'bcaa', 'caab', 'caba', 'cbaa']\n"
     ]
    }
   ],
   "source": [
    "def permuteUnique(s):\n",
    "    s = sorted(s)\n",
    "    result = []\n",
    "    used = [False] * len(s)\n",
    "    def backtrack(path):\n",
    "        if len(path) == len(s):\n",
    "            result.append(''.join(path))\n",
    "            return\n",
    "        for i in range(len(s)):\n",
    "            if used[i]:\n",
    "                continue\n",
    "            if i > 0 and s[i] == s[i - 1] and not used[i - 1]:\n",
    "                continue\n",
    "            used[i] = True\n",
    "            backtrack(path + [s[i]])\n",
    "            used[i] = False\n",
    "    backtrack([])\n",
    "    return result\n",
    "s = \"aabc\"\n",
    "print(permuteUnique(s))\n"
   ]
  },
  {
   "cell_type": "code",
   "execution_count": null,
   "id": "806fea32-195b-445d-a1e9-77de757d1953",
   "metadata": {},
   "outputs": [],
   "source": []
  }
 ],
 "metadata": {
  "kernelspec": {
   "display_name": "Python 3 (ipykernel)",
   "language": "python",
   "name": "python3"
  },
  "language_info": {
   "codemirror_mode": {
    "name": "ipython",
    "version": 3
   },
   "file_extension": ".py",
   "mimetype": "text/x-python",
   "name": "python",
   "nbconvert_exporter": "python",
   "pygments_lexer": "ipython3",
   "version": "3.10.4"
  }
 },
 "nbformat": 4,
 "nbformat_minor": 5
}
