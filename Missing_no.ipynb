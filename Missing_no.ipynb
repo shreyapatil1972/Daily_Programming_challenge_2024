{
 "cells": [
  {
   "cell_type": "code",
   "execution_count": 4,
   "id": "4a90e3ad-c00b-4a6e-a546-b262a228f215",
   "metadata": {},
   "outputs": [
    {
     "name": "stdin",
     "output_type": "stream",
     "text": [
      "Enter the value of n (the total number of integers):  5\n",
      "Enter 4 numbers separated by spaces:  1 3 4 5\n"
     ]
    },
    {
     "name": "stdout",
     "output_type": "stream",
     "text": [
      "The missing number is: 2\n"
     ]
    }
   ],
   "source": [
    "def find_missing_number(arr, n):\n",
    "    total_sum = n * (n + 1) // 2\n",
    "    array_sum = sum(arr)\n",
    "    missing_number = total_sum - array_sum\n",
    "    return missing_number\n",
    "\n",
    "n = int(input(\"Enter the value of n total number of integers: \"))\n",
    "arr = list(map(int, input(f\"Enter {n-1} numbers separated by spaces: \").split()))\n",
    "missing_number = find_missing_number(arr, n)\n",
    "print(f\"The missing number is: {missing_number}\")"
   ]
  }
 ],
 "metadata": {
  "kernelspec": {
   "display_name": "Python 3 (ipykernel)",
   "language": "python",
   "name": "python3"
  },
  "language_info": {
   "codemirror_mode": {
    "name": "ipython",
    "version": 3
   },
   "file_extension": ".py",
   "mimetype": "text/x-python",
   "name": "python",
   "nbconvert_exporter": "python",
   "pygments_lexer": "ipython3",
   "version": "3.10.4"
  }
 },
 "nbformat": 4,
 "nbformat_minor": 5
}
